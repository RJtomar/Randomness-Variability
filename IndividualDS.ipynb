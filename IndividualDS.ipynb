{
 "cells": [
  {
   "cell_type": "code",
   "execution_count": 1,
   "metadata": {},
   "outputs": [],
   "source": [
    "a=1/86.5052 "
   ]
  },
  {
   "cell_type": "code",
   "execution_count": 2,
   "metadata": {},
   "outputs": [],
   "source": [
    "b=1/167.2800 "
   ]
  },
  {
   "cell_type": "code",
   "execution_count": 3,
   "metadata": {},
   "outputs": [],
   "source": [
    "c= 1/ 1.0000 "
   ]
  },
  {
   "cell_type": "code",
   "execution_count": 4,
   "metadata": {},
   "outputs": [],
   "source": [
    "t_abs= 2.5000"
   ]
  },
  {
   "cell_type": "code",
   "execution_count": 5,
   "metadata": {},
   "outputs": [],
   "source": [
    "p = 0.1192 "
   ]
  },
  {
   "cell_type": "code",
   "execution_count": 7,
   "metadata": {},
   "outputs": [],
   "source": [
    "f <- function(t) {\n",
    "    ifelse(t < t_abs, 0, p*a*exp(-a*(t-t_abs))+(1-p)*b*exp(-b*(t-t_abs)))}"
   ]
  },
  {
   "cell_type": "code",
   "execution_count": 56,
   "metadata": {},
   "outputs": [],
   "source": [
    "#t <- seq(0,1000,.1)"
   ]
  },
  {
   "cell_type": "code",
   "execution_count": 57,
   "metadata": {},
   "outputs": [],
   "source": [
    "#dff <- data.frame(time=t, ISI= f(t))"
   ]
  },
  {
   "cell_type": "code",
   "execution_count": 58,
   "metadata": {},
   "outputs": [],
   "source": [
    " #library(\"ggplot2\")\n",
    "#g <- ggplot()+\n",
    "#  geom_path(data=dff, aes(x=time, y=ISI), size=1,  col=\"blue1\")\n",
    "#g1 <- g + coord_cartesian(xlim=c(0,1000), ylim=c(0,0.01))\n",
    "#g1 +  theme_classic()\n"
   ]
  },
  {
   "cell_type": "code",
   "execution_count": 8,
   "metadata": {},
   "outputs": [],
   "source": [
    "logf <- function(t) {\n",
    "    ifelse( t > 500, 0, log(f(t)))}"
   ]
  },
  {
   "cell_type": "code",
   "execution_count": 9,
   "metadata": {},
   "outputs": [],
   "source": [
    "f1 <- function(t) f(t)*logf(t)"
   ]
  },
  {
   "cell_type": "code",
   "execution_count": 10,
   "metadata": {},
   "outputs": [],
   "source": [
    "h <- -integrate(f1, t_abs, Inf)$value"
   ]
  },
  {
   "cell_type": "code",
   "execution_count": 11,
   "metadata": {},
   "outputs": [
    {
     "data": {
      "text/html": [
       "5.64193578675876"
      ],
      "text/latex": [
       "5.64193578675876"
      ],
      "text/markdown": [
       "5.64193578675876"
      ],
      "text/plain": [
       "[1] 5.641936"
      ]
     },
     "metadata": {},
     "output_type": "display_data"
    }
   ],
   "source": [
    "h"
   ]
  },
  {
   "cell_type": "code",
   "execution_count": 12,
   "metadata": {},
   "outputs": [],
   "source": [
    "m <- (p*b+(1-p)*a)/(a*b)"
   ]
  },
  {
   "cell_type": "code",
   "execution_count": 13,
   "metadata": {},
   "outputs": [],
   "source": [
    "Cv <- sqrt(((2*p*b^(2)+2*(1-p)*a^(2))/(p*b+(1-p)*a)^(2))-1)"
   ]
  },
  {
   "cell_type": "code",
   "execution_count": 14,
   "metadata": {},
   "outputs": [],
   "source": [
    "Ch <- (1/m)*exp(h-1)"
   ]
  },
  {
   "cell_type": "code",
   "execution_count": 15,
   "metadata": {},
   "outputs": [
    {
     "data": {
      "text/html": [
       "1.02719214194728"
      ],
      "text/latex": [
       "1.02719214194728"
      ],
      "text/markdown": [
       "1.02719214194728"
      ],
      "text/plain": [
       "[1] 1.027192"
      ]
     },
     "metadata": {},
     "output_type": "display_data"
    }
   ],
   "source": [
    "Cv"
   ]
  },
  {
   "cell_type": "code",
   "execution_count": 16,
   "metadata": {},
   "outputs": [
    {
     "data": {
      "text/html": [
       "0.658064698615797"
      ],
      "text/latex": [
       "0.658064698615797"
      ],
      "text/markdown": [
       "0.658064698615797"
      ],
      "text/plain": [
       "[1] 0.6580647"
      ]
     },
     "metadata": {},
     "output_type": "display_data"
    }
   ],
   "source": [
    "Ch"
   ]
  },
  {
   "cell_type": "code",
   "execution_count": 17,
   "metadata": {},
   "outputs": [],
   "source": [
    "fR <- function(t) (1/m)*(1/t^{3})*f(1/t)"
   ]
  },
  {
   "cell_type": "code",
   "execution_count": 18,
   "metadata": {},
   "outputs": [],
   "source": [
    "logfR <- function(t) ifelse((1/t) > 500, 0, -log(m)-3*log(t)+log(f(1/t)))"
   ]
  },
  {
   "cell_type": "code",
   "execution_count": 19,
   "metadata": {},
   "outputs": [],
   "source": [
    "FR <- function(t) fR(t)*logfR(t)"
   ]
  },
  {
   "cell_type": "code",
   "execution_count": 20,
   "metadata": {},
   "outputs": [],
   "source": [
    "H <- -(integrate(FR, 0, 1/t_abs)$value)"
   ]
  },
  {
   "cell_type": "code",
   "execution_count": 21,
   "metadata": {},
   "outputs": [],
   "source": [
    "ChR <- (1/m)*(exp(H-1))"
   ]
  },
  {
   "cell_type": "code",
   "execution_count": 27,
   "metadata": {},
   "outputs": [
    {
     "name": "stderr",
     "output_type": "stream",
     "text": [
      "Warning message:\n",
      "\"unable to access index for repository https://mran.microsoft.com/snapshot/2018-08-01/src/contrib:\n",
      "  cannot open destfile 'C:\\Users\\RIMJHI~1.TOM\\AppData\\Local\\Temp\\RtmpyM4NKT\\file39141b40a66', reason 'No such file or directory'\"Warning message:\n",
      "\"unable to access index for repository http://www.stats.ox.ac.uk/pub/RWin/src/contrib:\n",
      "  cannot open destfile 'C:\\Users\\RIMJHI~1.TOM\\AppData\\Local\\Temp\\RtmpyM4NKT\\file39142b33691', reason 'No such file or directory'\"Warning message:\n",
      "\"package 'expint' is not available (for R version 3.5.1)\"Warning message in gzfile(file, mode):\n",
      "\"cannot open compressed file 'C:\\Users\\RIMJHI~1.TOM\\AppData\\Local\\Temp\\RtmpyM4NKT/libloc_221_e90d43d5.rds', probable reason 'No such file or directory'\""
     ]
    },
    {
     "ename": "ERROR",
     "evalue": "Error in gzfile(file, mode): cannot open the connection\n",
     "execution_count": 27,
     "output_type": "error",
     "traceback": [
      "Error in gzfile(file, mode): cannot open the connection\nTraceback:\n",
      "1. install.packages(\"expint\")",
      "2. getDependencies(pkgs, dependencies, available, lib, ...)",
      "3. installed.packages(lib.loc = libpath, fields = c(\"Package\", \"Version\"), \n .     ...)",
      "4. saveRDS(list(base = base, value = ret0), dest)",
      "5. gzfile(file, mode)"
     ]
    }
   ],
   "source": [
    "install.packages(\"expint\")"
   ]
  },
  {
   "cell_type": "code",
   "execution_count": 25,
   "metadata": {},
   "outputs": [
    {
     "ename": "ERROR",
     "evalue": "Error in expint(a * t_abs): could not find function \"expint\"\n",
     "execution_count": 25,
     "output_type": "error",
     "traceback": [
      "Error in expint(a * t_abs): could not find function \"expint\"\nTraceback:\n"
     ]
    }
   ],
   "source": [
    "Cv <- sqrt((((p*a*exp(a*t_abs)*expint(a*t_abs)+(1-p)*b*exp(b*t_abs)*expint(b*t_abs))*(p*b+(1-p)*a))/(a*b))-1)"
   ]
  },
  {
   "cell_type": "code",
   "execution_count": null,
   "metadata": {},
   "outputs": [],
   "source": []
  }
 ],
 "metadata": {
  "kernelspec": {
   "display_name": "R",
   "language": "R",
   "name": "ir"
  },
  "language_info": {
   "codemirror_mode": "r",
   "file_extension": ".r",
   "mimetype": "text/x-r-source",
   "name": "R",
   "pygments_lexer": "r",
   "version": "3.5.1"
  }
 },
 "nbformat": 4,
 "nbformat_minor": 2
}
